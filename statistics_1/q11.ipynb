{
 "cells": [
  {
   "cell_type": "code",
   "execution_count": 40,
   "id": "75c6e5d5",
   "metadata": {},
   "outputs": [],
   "source": [
    "from scipy import stats\n",
    "import numpy as np"
   ]
  },
  {
   "cell_type": "code",
   "execution_count": 41,
   "id": "01c6e7ba",
   "metadata": {},
   "outputs": [
    {
     "data": {
      "text/plain": [
       "array([198.73833, 201.26167])"
      ]
     },
     "execution_count": 41,
     "metadata": {},
     "output_type": "execute_result"
    }
   ],
   "source": [
    "# at 94% confidence\n",
    "np.round(stats.norm.interval(alpha=0.94, loc=200, scale = 30/(2000**0.5)),5)"
   ]
  },
  {
   "cell_type": "code",
   "execution_count": 43,
   "id": "56b80a90",
   "metadata": {},
   "outputs": [
    {
     "data": {
      "text/plain": [
       "array([198.43944, 201.56056])"
      ]
     },
     "execution_count": 43,
     "metadata": {},
     "output_type": "execute_result"
    }
   ],
   "source": [
    "# at 98% confidence\n",
    "np.round(stats.norm.interval(alpha=0.98, loc=200, scale = 30/(2000**0.5)),5)"
   ]
  },
  {
   "cell_type": "code",
   "execution_count": 42,
   "id": "eb71faff",
   "metadata": {},
   "outputs": [
    {
     "data": {
      "text/plain": [
       "array([198.6223, 201.3777])"
      ]
     },
     "execution_count": 42,
     "metadata": {},
     "output_type": "execute_result"
    }
   ],
   "source": [
    "# at 96% confidence\n",
    "np.round(stats.norm.interval(alpha=0.96, loc=200, scale = 30/(2000**0.5)),5)"
   ]
  },
  {
   "cell_type": "code",
   "execution_count": null,
   "id": "b3d99e4e",
   "metadata": {},
   "outputs": [],
   "source": []
  }
 ],
 "metadata": {
  "kernelspec": {
   "display_name": "Python 3",
   "language": "python",
   "name": "python3"
  },
  "language_info": {
   "codemirror_mode": {
    "name": "ipython",
    "version": 3
   },
   "file_extension": ".py",
   "mimetype": "text/x-python",
   "name": "python",
   "nbconvert_exporter": "python",
   "pygments_lexer": "ipython3",
   "version": "3.8.8"
  }
 },
 "nbformat": 4,
 "nbformat_minor": 5
}
