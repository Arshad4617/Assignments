{
 "cells": [
  {
   "cell_type": "code",
   "execution_count": 2,
   "id": "eadec311",
   "metadata": {},
   "outputs": [],
   "source": [
    "import pandas as pd\n",
    "import numpy as np\n",
    "from scipy import stats"
   ]
  },
  {
   "cell_type": "markdown",
   "id": "4f32af0e",
   "metadata": {},
   "source": [
    "### Q1"
   ]
  },
  {
   "cell_type": "markdown",
   "id": "ad7232bd",
   "metadata": {},
   "source": [
    "finding zscore"
   ]
  },
  {
   "cell_type": "code",
   "execution_count": 3,
   "id": "c4519bce",
   "metadata": {},
   "outputs": [],
   "source": [
    "z = (50-45)/8"
   ]
  },
  {
   "cell_type": "code",
   "execution_count": 5,
   "id": "8b38a3a3",
   "metadata": {},
   "outputs": [
    {
     "data": {
      "text/plain": [
       "0.625"
      ]
     },
     "execution_count": 5,
     "metadata": {},
     "output_type": "execute_result"
    }
   ],
   "source": [
    "z"
   ]
  },
  {
   "cell_type": "code",
   "execution_count": 8,
   "id": "587c1f8f",
   "metadata": {},
   "outputs": [
    {
     "data": {
      "text/plain": [
       "0.26598552904870054"
      ]
     },
     "execution_count": 8,
     "metadata": {},
     "output_type": "execute_result"
    }
   ],
   "source": [
    "1 - stats.norm.cdf(abs(0.625))"
   ]
  },
  {
   "cell_type": "markdown",
   "id": "925f641b",
   "metadata": {},
   "source": [
    "### Q2"
   ]
  },
  {
   "cell_type": "markdown",
   "id": "615cc9e5",
   "metadata": {},
   "source": [
    "#### A"
   ]
  },
  {
   "cell_type": "code",
   "execution_count": 9,
   "id": "4f3b9f88",
   "metadata": {},
   "outputs": [
    {
     "data": {
      "text/plain": [
       "0.15865525393145707"
      ]
     },
     "execution_count": 9,
     "metadata": {},
     "output_type": "execute_result"
    }
   ],
   "source": [
    "#calculate employees age > 44\n",
    "1 - stats.norm.cdf(44,loc = 38, scale=6)"
   ]
  },
  {
   "cell_type": "code",
   "execution_count": 11,
   "id": "77ba131d",
   "metadata": {},
   "outputs": [
    {
     "data": {
      "text/plain": [
       "0.3413447460685429"
      ]
     },
     "execution_count": 11,
     "metadata": {},
     "output_type": "execute_result"
    }
   ],
   "source": [
    "#calculate employees between 44 and 38\n",
    "stats.norm.cdf(44,loc = 38, scale=6) - stats.norm.cdf(38,loc=38,scale=6)"
   ]
  },
  {
   "cell_type": "markdown",
   "id": "898c8ec3",
   "metadata": {},
   "source": [
    "#### B"
   ]
  },
  {
   "cell_type": "code",
   "execution_count": 13,
   "id": "34f234be",
   "metadata": {},
   "outputs": [
    {
     "data": {
      "text/plain": [
       "0.09121121972586788"
      ]
     },
     "execution_count": 13,
     "metadata": {},
     "output_type": "execute_result"
    }
   ],
   "source": [
    "#calculate employee age <30\n",
    "stats.norm.cdf(30,loc=38,scale=6)"
   ]
  },
  {
   "cell_type": "code",
   "execution_count": 14,
   "id": "5de8a1cc",
   "metadata": {
    "scrolled": true
   },
   "outputs": [
    {
     "data": {
      "text/plain": [
       "36.484487890347154"
      ]
     },
     "execution_count": 14,
     "metadata": {},
     "output_type": "execute_result"
    }
   ],
   "source": [
    "#No of employees attended to the training program\n",
    "400*stats.norm.cdf(30,loc=38,scale=6)"
   ]
  },
  {
   "cell_type": "markdown",
   "id": "581e489c",
   "metadata": {},
   "source": [
    "### Q4"
   ]
  },
  {
   "cell_type": "code",
   "execution_count": 17,
   "id": "30ea8256",
   "metadata": {},
   "outputs": [
    {
     "data": {
      "text/plain": [
       "(48.48341392902199, 151.516586070978)"
      ]
     },
     "execution_count": 17,
     "metadata": {},
     "output_type": "execute_result"
    }
   ],
   "source": [
    "stats.norm.interval(0.99,loc = 100, scale = 20)"
   ]
  },
  {
   "cell_type": "markdown",
   "id": "b2df1989",
   "metadata": {},
   "source": [
    "### Q5"
   ]
  },
  {
   "cell_type": "code",
   "execution_count": 20,
   "id": "5a5e2122",
   "metadata": {},
   "outputs": [
    {
     "data": {
      "text/plain": [
       "(12, 540)"
      ]
     },
     "execution_count": 20,
     "metadata": {},
     "output_type": "execute_result"
    }
   ],
   "source": [
    "#Total Mean of the companay\n",
    "mean = 5+7\n",
    "mean_inr = mean*45\n",
    "mean,mean_inr"
   ]
  },
  {
   "cell_type": "markdown",
   "id": "e590b3a6",
   "metadata": {},
   "source": [
    "total mean profit of the compnay is 540 million"
   ]
  },
  {
   "cell_type": "code",
   "execution_count": 26,
   "id": "540492a3",
   "metadata": {},
   "outputs": [
    {
     "data": {
      "text/plain": [
       "(5.0, 225.0)"
      ]
     },
     "execution_count": 26,
     "metadata": {},
     "output_type": "execute_result"
    }
   ],
   "source": [
    "standard_deviation = np.sqrt((9)+(16))\n",
    "standard_deviation_in_inr = standard_deviation*45\n",
    "standard_deviation,standard_deviation_in_inr"
   ]
  },
  {
   "cell_type": "markdown",
   "id": "e60811a4",
   "metadata": {},
   "source": [
    "standard deviation is 225 million"
   ]
  },
  {
   "cell_type": "markdown",
   "id": "0a832e3f",
   "metadata": {},
   "source": [
    "#### A"
   ]
  },
  {
   "cell_type": "code",
   "execution_count": 30,
   "id": "f23e0f1b",
   "metadata": {
    "scrolled": true
   },
   "outputs": [
    {
     "data": {
      "text/plain": [
       "array([ 99.008, 980.992])"
      ]
     },
     "execution_count": 30,
     "metadata": {},
     "output_type": "execute_result"
    }
   ],
   "source": [
    "np.round(stats.norm.interval(0.95,loc = 540, scale = 225),3)"
   ]
  },
  {
   "cell_type": "markdown",
   "id": "bab74ddd",
   "metadata": {},
   "source": [
    "range is [ 99.008, 980.992] million in INR"
   ]
  },
  {
   "cell_type": "markdown",
   "id": "fa5b7d8c",
   "metadata": {},
   "source": [
    "#### B"
   ]
  },
  {
   "cell_type": "code",
   "execution_count": 33,
   "id": "bd0133c6",
   "metadata": {},
   "outputs": [
    {
     "data": {
      "text/plain": [
       "169.875"
      ]
     },
     "execution_count": 33,
     "metadata": {},
     "output_type": "execute_result"
    }
   ],
   "source": [
    "val = 540+(-1.645)*(225)\n",
    "val"
   ]
  },
  {
   "cell_type": "markdown",
   "id": "c96db4c8",
   "metadata": {},
   "source": [
    "#### C"
   ]
  },
  {
   "cell_type": "code",
   "execution_count": 36,
   "id": "673067ae",
   "metadata": {},
   "outputs": [
    {
     "data": {
      "text/plain": [
       "0.0477903522728147"
      ]
     },
     "execution_count": 36,
     "metadata": {},
     "output_type": "execute_result"
    }
   ],
   "source": [
    "# Loss of division 1\n",
    "stats.norm.cdf(0,5,3)"
   ]
  },
  {
   "cell_type": "code",
   "execution_count": 37,
   "id": "7e08cc6a",
   "metadata": {},
   "outputs": [
    {
     "data": {
      "text/plain": [
       "0.040059156863817086"
      ]
     },
     "execution_count": 37,
     "metadata": {},
     "output_type": "execute_result"
    }
   ],
   "source": [
    "stats.norm.cdf(0,7,4)"
   ]
  },
  {
   "cell_type": "code",
   "execution_count": null,
   "id": "8451601a",
   "metadata": {},
   "outputs": [],
   "source": []
  }
 ],
 "metadata": {
  "kernelspec": {
   "display_name": "Python 3",
   "language": "python",
   "name": "python3"
  },
  "language_info": {
   "codemirror_mode": {
    "name": "ipython",
    "version": 3
   },
   "file_extension": ".py",
   "mimetype": "text/x-python",
   "name": "python",
   "nbconvert_exporter": "python",
   "pygments_lexer": "ipython3",
   "version": "3.8.8"
  }
 },
 "nbformat": 4,
 "nbformat_minor": 5
}
