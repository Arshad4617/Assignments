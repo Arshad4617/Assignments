{
 "cells": [
  {
   "cell_type": "markdown",
   "id": "0a18cd51",
   "metadata": {},
   "source": [
    "## import libraries"
   ]
  },
  {
   "cell_type": "code",
   "execution_count": 1,
   "id": "647fc64c",
   "metadata": {},
   "outputs": [],
   "source": [
    "import pandas as pd\n",
    "import matplotlib.pyplot as plt\n",
    "import seaborn as sns"
   ]
  },
  {
   "cell_type": "code",
   "execution_count": 2,
   "id": "ffa186a9",
   "metadata": {},
   "outputs": [
    {
     "data": {
      "text/html": [
       "<div>\n",
       "<style scoped>\n",
       "    .dataframe tbody tr th:only-of-type {\n",
       "        vertical-align: middle;\n",
       "    }\n",
       "\n",
       "    .dataframe tbody tr th {\n",
       "        vertical-align: top;\n",
       "    }\n",
       "\n",
       "    .dataframe thead th {\n",
       "        text-align: right;\n",
       "    }\n",
       "</style>\n",
       "<table border=\"1\" class=\"dataframe\">\n",
       "  <thead>\n",
       "    <tr style=\"text-align: right;\">\n",
       "      <th></th>\n",
       "      <th>Undergrad</th>\n",
       "      <th>Marital.Status</th>\n",
       "      <th>Taxable.Income</th>\n",
       "      <th>City.Population</th>\n",
       "      <th>Work.Experience</th>\n",
       "      <th>Urban</th>\n",
       "    </tr>\n",
       "  </thead>\n",
       "  <tbody>\n",
       "    <tr>\n",
       "      <th>0</th>\n",
       "      <td>NO</td>\n",
       "      <td>Single</td>\n",
       "      <td>68833</td>\n",
       "      <td>50047</td>\n",
       "      <td>10</td>\n",
       "      <td>YES</td>\n",
       "    </tr>\n",
       "    <tr>\n",
       "      <th>1</th>\n",
       "      <td>YES</td>\n",
       "      <td>Divorced</td>\n",
       "      <td>33700</td>\n",
       "      <td>134075</td>\n",
       "      <td>18</td>\n",
       "      <td>YES</td>\n",
       "    </tr>\n",
       "    <tr>\n",
       "      <th>2</th>\n",
       "      <td>NO</td>\n",
       "      <td>Married</td>\n",
       "      <td>36925</td>\n",
       "      <td>160205</td>\n",
       "      <td>30</td>\n",
       "      <td>YES</td>\n",
       "    </tr>\n",
       "    <tr>\n",
       "      <th>3</th>\n",
       "      <td>YES</td>\n",
       "      <td>Single</td>\n",
       "      <td>50190</td>\n",
       "      <td>193264</td>\n",
       "      <td>15</td>\n",
       "      <td>YES</td>\n",
       "    </tr>\n",
       "    <tr>\n",
       "      <th>4</th>\n",
       "      <td>NO</td>\n",
       "      <td>Married</td>\n",
       "      <td>81002</td>\n",
       "      <td>27533</td>\n",
       "      <td>28</td>\n",
       "      <td>NO</td>\n",
       "    </tr>\n",
       "    <tr>\n",
       "      <th>...</th>\n",
       "      <td>...</td>\n",
       "      <td>...</td>\n",
       "      <td>...</td>\n",
       "      <td>...</td>\n",
       "      <td>...</td>\n",
       "      <td>...</td>\n",
       "    </tr>\n",
       "    <tr>\n",
       "      <th>595</th>\n",
       "      <td>YES</td>\n",
       "      <td>Divorced</td>\n",
       "      <td>76340</td>\n",
       "      <td>39492</td>\n",
       "      <td>7</td>\n",
       "      <td>YES</td>\n",
       "    </tr>\n",
       "    <tr>\n",
       "      <th>596</th>\n",
       "      <td>YES</td>\n",
       "      <td>Divorced</td>\n",
       "      <td>69967</td>\n",
       "      <td>55369</td>\n",
       "      <td>2</td>\n",
       "      <td>YES</td>\n",
       "    </tr>\n",
       "    <tr>\n",
       "      <th>597</th>\n",
       "      <td>NO</td>\n",
       "      <td>Divorced</td>\n",
       "      <td>47334</td>\n",
       "      <td>154058</td>\n",
       "      <td>0</td>\n",
       "      <td>YES</td>\n",
       "    </tr>\n",
       "    <tr>\n",
       "      <th>598</th>\n",
       "      <td>YES</td>\n",
       "      <td>Married</td>\n",
       "      <td>98592</td>\n",
       "      <td>180083</td>\n",
       "      <td>17</td>\n",
       "      <td>NO</td>\n",
       "    </tr>\n",
       "    <tr>\n",
       "      <th>599</th>\n",
       "      <td>NO</td>\n",
       "      <td>Divorced</td>\n",
       "      <td>96519</td>\n",
       "      <td>158137</td>\n",
       "      <td>16</td>\n",
       "      <td>NO</td>\n",
       "    </tr>\n",
       "  </tbody>\n",
       "</table>\n",
       "<p>600 rows × 6 columns</p>\n",
       "</div>"
      ],
      "text/plain": [
       "    Undergrad Marital.Status  Taxable.Income  City.Population  \\\n",
       "0          NO         Single           68833            50047   \n",
       "1         YES       Divorced           33700           134075   \n",
       "2          NO        Married           36925           160205   \n",
       "3         YES         Single           50190           193264   \n",
       "4          NO        Married           81002            27533   \n",
       "..        ...            ...             ...              ...   \n",
       "595       YES       Divorced           76340            39492   \n",
       "596       YES       Divorced           69967            55369   \n",
       "597        NO       Divorced           47334           154058   \n",
       "598       YES        Married           98592           180083   \n",
       "599        NO       Divorced           96519           158137   \n",
       "\n",
       "     Work.Experience Urban  \n",
       "0                 10   YES  \n",
       "1                 18   YES  \n",
       "2                 30   YES  \n",
       "3                 15   YES  \n",
       "4                 28    NO  \n",
       "..               ...   ...  \n",
       "595                7   YES  \n",
       "596                2   YES  \n",
       "597                0   YES  \n",
       "598               17    NO  \n",
       "599               16    NO  \n",
       "\n",
       "[600 rows x 6 columns]"
      ]
     },
     "execution_count": 2,
     "metadata": {},
     "output_type": "execute_result"
    }
   ],
   "source": [
    "fraud_check = pd.read_csv('Fraud_check.csv')\n",
    "fraud_check"
   ]
  },
  {
   "cell_type": "markdown",
   "id": "47d24a10",
   "metadata": {},
   "source": [
    "## Create new feature (Risky/Good)"
   ]
  },
  {
   "cell_type": "code",
   "execution_count": 3,
   "id": "89131c64",
   "metadata": {},
   "outputs": [],
   "source": [
    "fraud_check['Risky/Good'] = fraud_check['Taxable.Income']"
   ]
  },
  {
   "cell_type": "code",
   "execution_count": 4,
   "id": "c54a2e02",
   "metadata": {},
   "outputs": [
    {
     "data": {
      "text/html": [
       "<div>\n",
       "<style scoped>\n",
       "    .dataframe tbody tr th:only-of-type {\n",
       "        vertical-align: middle;\n",
       "    }\n",
       "\n",
       "    .dataframe tbody tr th {\n",
       "        vertical-align: top;\n",
       "    }\n",
       "\n",
       "    .dataframe thead th {\n",
       "        text-align: right;\n",
       "    }\n",
       "</style>\n",
       "<table border=\"1\" class=\"dataframe\">\n",
       "  <thead>\n",
       "    <tr style=\"text-align: right;\">\n",
       "      <th></th>\n",
       "      <th>Undergrad</th>\n",
       "      <th>Marital.Status</th>\n",
       "      <th>Taxable.Income</th>\n",
       "      <th>City.Population</th>\n",
       "      <th>Work.Experience</th>\n",
       "      <th>Urban</th>\n",
       "      <th>Risky/Good</th>\n",
       "    </tr>\n",
       "  </thead>\n",
       "  <tbody>\n",
       "    <tr>\n",
       "      <th>0</th>\n",
       "      <td>NO</td>\n",
       "      <td>Single</td>\n",
       "      <td>68833</td>\n",
       "      <td>50047</td>\n",
       "      <td>10</td>\n",
       "      <td>YES</td>\n",
       "      <td>68833</td>\n",
       "    </tr>\n",
       "    <tr>\n",
       "      <th>1</th>\n",
       "      <td>YES</td>\n",
       "      <td>Divorced</td>\n",
       "      <td>33700</td>\n",
       "      <td>134075</td>\n",
       "      <td>18</td>\n",
       "      <td>YES</td>\n",
       "      <td>33700</td>\n",
       "    </tr>\n",
       "    <tr>\n",
       "      <th>2</th>\n",
       "      <td>NO</td>\n",
       "      <td>Married</td>\n",
       "      <td>36925</td>\n",
       "      <td>160205</td>\n",
       "      <td>30</td>\n",
       "      <td>YES</td>\n",
       "      <td>36925</td>\n",
       "    </tr>\n",
       "    <tr>\n",
       "      <th>3</th>\n",
       "      <td>YES</td>\n",
       "      <td>Single</td>\n",
       "      <td>50190</td>\n",
       "      <td>193264</td>\n",
       "      <td>15</td>\n",
       "      <td>YES</td>\n",
       "      <td>50190</td>\n",
       "    </tr>\n",
       "    <tr>\n",
       "      <th>4</th>\n",
       "      <td>NO</td>\n",
       "      <td>Married</td>\n",
       "      <td>81002</td>\n",
       "      <td>27533</td>\n",
       "      <td>28</td>\n",
       "      <td>NO</td>\n",
       "      <td>81002</td>\n",
       "    </tr>\n",
       "    <tr>\n",
       "      <th>...</th>\n",
       "      <td>...</td>\n",
       "      <td>...</td>\n",
       "      <td>...</td>\n",
       "      <td>...</td>\n",
       "      <td>...</td>\n",
       "      <td>...</td>\n",
       "      <td>...</td>\n",
       "    </tr>\n",
       "    <tr>\n",
       "      <th>595</th>\n",
       "      <td>YES</td>\n",
       "      <td>Divorced</td>\n",
       "      <td>76340</td>\n",
       "      <td>39492</td>\n",
       "      <td>7</td>\n",
       "      <td>YES</td>\n",
       "      <td>76340</td>\n",
       "    </tr>\n",
       "    <tr>\n",
       "      <th>596</th>\n",
       "      <td>YES</td>\n",
       "      <td>Divorced</td>\n",
       "      <td>69967</td>\n",
       "      <td>55369</td>\n",
       "      <td>2</td>\n",
       "      <td>YES</td>\n",
       "      <td>69967</td>\n",
       "    </tr>\n",
       "    <tr>\n",
       "      <th>597</th>\n",
       "      <td>NO</td>\n",
       "      <td>Divorced</td>\n",
       "      <td>47334</td>\n",
       "      <td>154058</td>\n",
       "      <td>0</td>\n",
       "      <td>YES</td>\n",
       "      <td>47334</td>\n",
       "    </tr>\n",
       "    <tr>\n",
       "      <th>598</th>\n",
       "      <td>YES</td>\n",
       "      <td>Married</td>\n",
       "      <td>98592</td>\n",
       "      <td>180083</td>\n",
       "      <td>17</td>\n",
       "      <td>NO</td>\n",
       "      <td>98592</td>\n",
       "    </tr>\n",
       "    <tr>\n",
       "      <th>599</th>\n",
       "      <td>NO</td>\n",
       "      <td>Divorced</td>\n",
       "      <td>96519</td>\n",
       "      <td>158137</td>\n",
       "      <td>16</td>\n",
       "      <td>NO</td>\n",
       "      <td>96519</td>\n",
       "    </tr>\n",
       "  </tbody>\n",
       "</table>\n",
       "<p>600 rows × 7 columns</p>\n",
       "</div>"
      ],
      "text/plain": [
       "    Undergrad Marital.Status  Taxable.Income  City.Population  \\\n",
       "0          NO         Single           68833            50047   \n",
       "1         YES       Divorced           33700           134075   \n",
       "2          NO        Married           36925           160205   \n",
       "3         YES         Single           50190           193264   \n",
       "4          NO        Married           81002            27533   \n",
       "..        ...            ...             ...              ...   \n",
       "595       YES       Divorced           76340            39492   \n",
       "596       YES       Divorced           69967            55369   \n",
       "597        NO       Divorced           47334           154058   \n",
       "598       YES        Married           98592           180083   \n",
       "599        NO       Divorced           96519           158137   \n",
       "\n",
       "     Work.Experience Urban  Risky/Good  \n",
       "0                 10   YES       68833  \n",
       "1                 18   YES       33700  \n",
       "2                 30   YES       36925  \n",
       "3                 15   YES       50190  \n",
       "4                 28    NO       81002  \n",
       "..               ...   ...         ...  \n",
       "595                7   YES       76340  \n",
       "596                2   YES       69967  \n",
       "597                0   YES       47334  \n",
       "598               17    NO       98592  \n",
       "599               16    NO       96519  \n",
       "\n",
       "[600 rows x 7 columns]"
      ]
     },
     "execution_count": 4,
     "metadata": {},
     "output_type": "execute_result"
    }
   ],
   "source": [
    "fraud_check"
   ]
  },
  {
   "cell_type": "code",
   "execution_count": 5,
   "id": "4a0994cc",
   "metadata": {},
   "outputs": [],
   "source": [
    "fraud_check['Risky/Good'] = fraud_check['Risky/Good'].apply(lambda x:'Risky' if x<=30000 else 'Good')"
   ]
  },
  {
   "cell_type": "code",
   "execution_count": 6,
   "id": "01448628",
   "metadata": {},
   "outputs": [
    {
     "data": {
      "text/html": [
       "<div>\n",
       "<style scoped>\n",
       "    .dataframe tbody tr th:only-of-type {\n",
       "        vertical-align: middle;\n",
       "    }\n",
       "\n",
       "    .dataframe tbody tr th {\n",
       "        vertical-align: top;\n",
       "    }\n",
       "\n",
       "    .dataframe thead th {\n",
       "        text-align: right;\n",
       "    }\n",
       "</style>\n",
       "<table border=\"1\" class=\"dataframe\">\n",
       "  <thead>\n",
       "    <tr style=\"text-align: right;\">\n",
       "      <th></th>\n",
       "      <th>Undergrad</th>\n",
       "      <th>Marital.Status</th>\n",
       "      <th>Taxable.Income</th>\n",
       "      <th>City.Population</th>\n",
       "      <th>Work.Experience</th>\n",
       "      <th>Urban</th>\n",
       "      <th>Risky/Good</th>\n",
       "    </tr>\n",
       "  </thead>\n",
       "  <tbody>\n",
       "    <tr>\n",
       "      <th>0</th>\n",
       "      <td>NO</td>\n",
       "      <td>Single</td>\n",
       "      <td>68833</td>\n",
       "      <td>50047</td>\n",
       "      <td>10</td>\n",
       "      <td>YES</td>\n",
       "      <td>Good</td>\n",
       "    </tr>\n",
       "    <tr>\n",
       "      <th>1</th>\n",
       "      <td>YES</td>\n",
       "      <td>Divorced</td>\n",
       "      <td>33700</td>\n",
       "      <td>134075</td>\n",
       "      <td>18</td>\n",
       "      <td>YES</td>\n",
       "      <td>Good</td>\n",
       "    </tr>\n",
       "    <tr>\n",
       "      <th>2</th>\n",
       "      <td>NO</td>\n",
       "      <td>Married</td>\n",
       "      <td>36925</td>\n",
       "      <td>160205</td>\n",
       "      <td>30</td>\n",
       "      <td>YES</td>\n",
       "      <td>Good</td>\n",
       "    </tr>\n",
       "    <tr>\n",
       "      <th>3</th>\n",
       "      <td>YES</td>\n",
       "      <td>Single</td>\n",
       "      <td>50190</td>\n",
       "      <td>193264</td>\n",
       "      <td>15</td>\n",
       "      <td>YES</td>\n",
       "      <td>Good</td>\n",
       "    </tr>\n",
       "    <tr>\n",
       "      <th>4</th>\n",
       "      <td>NO</td>\n",
       "      <td>Married</td>\n",
       "      <td>81002</td>\n",
       "      <td>27533</td>\n",
       "      <td>28</td>\n",
       "      <td>NO</td>\n",
       "      <td>Good</td>\n",
       "    </tr>\n",
       "    <tr>\n",
       "      <th>5</th>\n",
       "      <td>NO</td>\n",
       "      <td>Divorced</td>\n",
       "      <td>33329</td>\n",
       "      <td>116382</td>\n",
       "      <td>0</td>\n",
       "      <td>NO</td>\n",
       "      <td>Good</td>\n",
       "    </tr>\n",
       "    <tr>\n",
       "      <th>6</th>\n",
       "      <td>NO</td>\n",
       "      <td>Divorced</td>\n",
       "      <td>83357</td>\n",
       "      <td>80890</td>\n",
       "      <td>8</td>\n",
       "      <td>YES</td>\n",
       "      <td>Good</td>\n",
       "    </tr>\n",
       "    <tr>\n",
       "      <th>7</th>\n",
       "      <td>YES</td>\n",
       "      <td>Single</td>\n",
       "      <td>62774</td>\n",
       "      <td>131253</td>\n",
       "      <td>3</td>\n",
       "      <td>YES</td>\n",
       "      <td>Good</td>\n",
       "    </tr>\n",
       "    <tr>\n",
       "      <th>8</th>\n",
       "      <td>NO</td>\n",
       "      <td>Single</td>\n",
       "      <td>83519</td>\n",
       "      <td>102481</td>\n",
       "      <td>12</td>\n",
       "      <td>YES</td>\n",
       "      <td>Good</td>\n",
       "    </tr>\n",
       "    <tr>\n",
       "      <th>9</th>\n",
       "      <td>YES</td>\n",
       "      <td>Divorced</td>\n",
       "      <td>98152</td>\n",
       "      <td>155482</td>\n",
       "      <td>4</td>\n",
       "      <td>YES</td>\n",
       "      <td>Good</td>\n",
       "    </tr>\n",
       "    <tr>\n",
       "      <th>10</th>\n",
       "      <td>NO</td>\n",
       "      <td>Single</td>\n",
       "      <td>29732</td>\n",
       "      <td>102602</td>\n",
       "      <td>19</td>\n",
       "      <td>YES</td>\n",
       "      <td>Risky</td>\n",
       "    </tr>\n",
       "    <tr>\n",
       "      <th>11</th>\n",
       "      <td>NO</td>\n",
       "      <td>Single</td>\n",
       "      <td>61063</td>\n",
       "      <td>94875</td>\n",
       "      <td>6</td>\n",
       "      <td>YES</td>\n",
       "      <td>Good</td>\n",
       "    </tr>\n",
       "    <tr>\n",
       "      <th>12</th>\n",
       "      <td>NO</td>\n",
       "      <td>Divorced</td>\n",
       "      <td>11794</td>\n",
       "      <td>148033</td>\n",
       "      <td>14</td>\n",
       "      <td>YES</td>\n",
       "      <td>Risky</td>\n",
       "    </tr>\n",
       "    <tr>\n",
       "      <th>13</th>\n",
       "      <td>NO</td>\n",
       "      <td>Married</td>\n",
       "      <td>61830</td>\n",
       "      <td>86649</td>\n",
       "      <td>16</td>\n",
       "      <td>YES</td>\n",
       "      <td>Good</td>\n",
       "    </tr>\n",
       "    <tr>\n",
       "      <th>14</th>\n",
       "      <td>NO</td>\n",
       "      <td>Married</td>\n",
       "      <td>64070</td>\n",
       "      <td>57529</td>\n",
       "      <td>13</td>\n",
       "      <td>YES</td>\n",
       "      <td>Good</td>\n",
       "    </tr>\n",
       "    <tr>\n",
       "      <th>15</th>\n",
       "      <td>NO</td>\n",
       "      <td>Divorced</td>\n",
       "      <td>69869</td>\n",
       "      <td>107764</td>\n",
       "      <td>29</td>\n",
       "      <td>NO</td>\n",
       "      <td>Good</td>\n",
       "    </tr>\n",
       "    <tr>\n",
       "      <th>16</th>\n",
       "      <td>YES</td>\n",
       "      <td>Divorced</td>\n",
       "      <td>24987</td>\n",
       "      <td>34551</td>\n",
       "      <td>29</td>\n",
       "      <td>NO</td>\n",
       "      <td>Risky</td>\n",
       "    </tr>\n",
       "    <tr>\n",
       "      <th>17</th>\n",
       "      <td>YES</td>\n",
       "      <td>Married</td>\n",
       "      <td>39476</td>\n",
       "      <td>57194</td>\n",
       "      <td>25</td>\n",
       "      <td>NO</td>\n",
       "      <td>Good</td>\n",
       "    </tr>\n",
       "    <tr>\n",
       "      <th>18</th>\n",
       "      <td>YES</td>\n",
       "      <td>Divorced</td>\n",
       "      <td>97957</td>\n",
       "      <td>59269</td>\n",
       "      <td>6</td>\n",
       "      <td>NO</td>\n",
       "      <td>Good</td>\n",
       "    </tr>\n",
       "    <tr>\n",
       "      <th>19</th>\n",
       "      <td>NO</td>\n",
       "      <td>Single</td>\n",
       "      <td>10987</td>\n",
       "      <td>126953</td>\n",
       "      <td>30</td>\n",
       "      <td>YES</td>\n",
       "      <td>Risky</td>\n",
       "    </tr>\n",
       "    <tr>\n",
       "      <th>20</th>\n",
       "      <td>YES</td>\n",
       "      <td>Single</td>\n",
       "      <td>88636</td>\n",
       "      <td>147222</td>\n",
       "      <td>26</td>\n",
       "      <td>NO</td>\n",
       "      <td>Good</td>\n",
       "    </tr>\n",
       "    <tr>\n",
       "      <th>21</th>\n",
       "      <td>YES</td>\n",
       "      <td>Divorced</td>\n",
       "      <td>14310</td>\n",
       "      <td>29106</td>\n",
       "      <td>7</td>\n",
       "      <td>YES</td>\n",
       "      <td>Risky</td>\n",
       "    </tr>\n",
       "    <tr>\n",
       "      <th>22</th>\n",
       "      <td>YES</td>\n",
       "      <td>Divorced</td>\n",
       "      <td>78969</td>\n",
       "      <td>155342</td>\n",
       "      <td>14</td>\n",
       "      <td>NO</td>\n",
       "      <td>Good</td>\n",
       "    </tr>\n",
       "    <tr>\n",
       "      <th>23</th>\n",
       "      <td>NO</td>\n",
       "      <td>Single</td>\n",
       "      <td>92040</td>\n",
       "      <td>50495</td>\n",
       "      <td>12</td>\n",
       "      <td>YES</td>\n",
       "      <td>Good</td>\n",
       "    </tr>\n",
       "    <tr>\n",
       "      <th>24</th>\n",
       "      <td>NO</td>\n",
       "      <td>Divorced</td>\n",
       "      <td>38239</td>\n",
       "      <td>28495</td>\n",
       "      <td>30</td>\n",
       "      <td>NO</td>\n",
       "      <td>Good</td>\n",
       "    </tr>\n",
       "    <tr>\n",
       "      <th>25</th>\n",
       "      <td>NO</td>\n",
       "      <td>Divorced</td>\n",
       "      <td>31417</td>\n",
       "      <td>124606</td>\n",
       "      <td>27</td>\n",
       "      <td>YES</td>\n",
       "      <td>Good</td>\n",
       "    </tr>\n",
       "    <tr>\n",
       "      <th>26</th>\n",
       "      <td>YES</td>\n",
       "      <td>Divorced</td>\n",
       "      <td>55299</td>\n",
       "      <td>169128</td>\n",
       "      <td>15</td>\n",
       "      <td>NO</td>\n",
       "      <td>Good</td>\n",
       "    </tr>\n",
       "    <tr>\n",
       "      <th>27</th>\n",
       "      <td>YES</td>\n",
       "      <td>Single</td>\n",
       "      <td>87778</td>\n",
       "      <td>28542</td>\n",
       "      <td>12</td>\n",
       "      <td>YES</td>\n",
       "      <td>Good</td>\n",
       "    </tr>\n",
       "    <tr>\n",
       "      <th>28</th>\n",
       "      <td>YES</td>\n",
       "      <td>Single</td>\n",
       "      <td>10379</td>\n",
       "      <td>128766</td>\n",
       "      <td>5</td>\n",
       "      <td>YES</td>\n",
       "      <td>Risky</td>\n",
       "    </tr>\n",
       "    <tr>\n",
       "      <th>29</th>\n",
       "      <td>YES</td>\n",
       "      <td>Divorced</td>\n",
       "      <td>94033</td>\n",
       "      <td>41863</td>\n",
       "      <td>30</td>\n",
       "      <td>YES</td>\n",
       "      <td>Good</td>\n",
       "    </tr>\n",
       "    <tr>\n",
       "      <th>30</th>\n",
       "      <td>YES</td>\n",
       "      <td>Divorced</td>\n",
       "      <td>73854</td>\n",
       "      <td>117788</td>\n",
       "      <td>0</td>\n",
       "      <td>YES</td>\n",
       "      <td>Good</td>\n",
       "    </tr>\n",
       "    <tr>\n",
       "      <th>31</th>\n",
       "      <td>NO</td>\n",
       "      <td>Divorced</td>\n",
       "      <td>64007</td>\n",
       "      <td>147414</td>\n",
       "      <td>21</td>\n",
       "      <td>NO</td>\n",
       "      <td>Good</td>\n",
       "    </tr>\n",
       "    <tr>\n",
       "      <th>32</th>\n",
       "      <td>YES</td>\n",
       "      <td>Married</td>\n",
       "      <td>97200</td>\n",
       "      <td>51911</td>\n",
       "      <td>23</td>\n",
       "      <td>NO</td>\n",
       "      <td>Good</td>\n",
       "    </tr>\n",
       "    <tr>\n",
       "      <th>33</th>\n",
       "      <td>YES</td>\n",
       "      <td>Single</td>\n",
       "      <td>82071</td>\n",
       "      <td>157251</td>\n",
       "      <td>21</td>\n",
       "      <td>NO</td>\n",
       "      <td>Good</td>\n",
       "    </tr>\n",
       "    <tr>\n",
       "      <th>34</th>\n",
       "      <td>YES</td>\n",
       "      <td>Divorced</td>\n",
       "      <td>12514</td>\n",
       "      <td>183767</td>\n",
       "      <td>1</td>\n",
       "      <td>YES</td>\n",
       "      <td>Risky</td>\n",
       "    </tr>\n",
       "    <tr>\n",
       "      <th>35</th>\n",
       "      <td>YES</td>\n",
       "      <td>Married</td>\n",
       "      <td>31336</td>\n",
       "      <td>41117</td>\n",
       "      <td>30</td>\n",
       "      <td>YES</td>\n",
       "      <td>Good</td>\n",
       "    </tr>\n",
       "    <tr>\n",
       "      <th>36</th>\n",
       "      <td>YES</td>\n",
       "      <td>Married</td>\n",
       "      <td>10163</td>\n",
       "      <td>193995</td>\n",
       "      <td>5</td>\n",
       "      <td>YES</td>\n",
       "      <td>Risky</td>\n",
       "    </tr>\n",
       "    <tr>\n",
       "      <th>37</th>\n",
       "      <td>NO</td>\n",
       "      <td>Married</td>\n",
       "      <td>68513</td>\n",
       "      <td>66912</td>\n",
       "      <td>5</td>\n",
       "      <td>YES</td>\n",
       "      <td>Good</td>\n",
       "    </tr>\n",
       "    <tr>\n",
       "      <th>38</th>\n",
       "      <td>NO</td>\n",
       "      <td>Single</td>\n",
       "      <td>14912</td>\n",
       "      <td>177575</td>\n",
       "      <td>3</td>\n",
       "      <td>NO</td>\n",
       "      <td>Risky</td>\n",
       "    </tr>\n",
       "    <tr>\n",
       "      <th>39</th>\n",
       "      <td>NO</td>\n",
       "      <td>Married</td>\n",
       "      <td>74010</td>\n",
       "      <td>54981</td>\n",
       "      <td>16</td>\n",
       "      <td>YES</td>\n",
       "      <td>Good</td>\n",
       "    </tr>\n",
       "    <tr>\n",
       "      <th>40</th>\n",
       "      <td>NO</td>\n",
       "      <td>Single</td>\n",
       "      <td>50777</td>\n",
       "      <td>199697</td>\n",
       "      <td>26</td>\n",
       "      <td>YES</td>\n",
       "      <td>Good</td>\n",
       "    </tr>\n",
       "    <tr>\n",
       "      <th>41</th>\n",
       "      <td>YES</td>\n",
       "      <td>Married</td>\n",
       "      <td>49436</td>\n",
       "      <td>91524</td>\n",
       "      <td>1</td>\n",
       "      <td>NO</td>\n",
       "      <td>Good</td>\n",
       "    </tr>\n",
       "    <tr>\n",
       "      <th>42</th>\n",
       "      <td>NO</td>\n",
       "      <td>Single</td>\n",
       "      <td>96485</td>\n",
       "      <td>51666</td>\n",
       "      <td>12</td>\n",
       "      <td>NO</td>\n",
       "      <td>Good</td>\n",
       "    </tr>\n",
       "    <tr>\n",
       "      <th>43</th>\n",
       "      <td>YES</td>\n",
       "      <td>Divorced</td>\n",
       "      <td>70339</td>\n",
       "      <td>50020</td>\n",
       "      <td>10</td>\n",
       "      <td>NO</td>\n",
       "      <td>Good</td>\n",
       "    </tr>\n",
       "    <tr>\n",
       "      <th>44</th>\n",
       "      <td>YES</td>\n",
       "      <td>Divorced</td>\n",
       "      <td>33614</td>\n",
       "      <td>98880</td>\n",
       "      <td>22</td>\n",
       "      <td>NO</td>\n",
       "      <td>Good</td>\n",
       "    </tr>\n",
       "    <tr>\n",
       "      <th>45</th>\n",
       "      <td>YES</td>\n",
       "      <td>Married</td>\n",
       "      <td>81079</td>\n",
       "      <td>183095</td>\n",
       "      <td>14</td>\n",
       "      <td>YES</td>\n",
       "      <td>Good</td>\n",
       "    </tr>\n",
       "    <tr>\n",
       "      <th>46</th>\n",
       "      <td>YES</td>\n",
       "      <td>Married</td>\n",
       "      <td>31532</td>\n",
       "      <td>137346</td>\n",
       "      <td>27</td>\n",
       "      <td>YES</td>\n",
       "      <td>Good</td>\n",
       "    </tr>\n",
       "    <tr>\n",
       "      <th>47</th>\n",
       "      <td>YES</td>\n",
       "      <td>Single</td>\n",
       "      <td>44034</td>\n",
       "      <td>34964</td>\n",
       "      <td>2</td>\n",
       "      <td>NO</td>\n",
       "      <td>Good</td>\n",
       "    </tr>\n",
       "    <tr>\n",
       "      <th>48</th>\n",
       "      <td>NO</td>\n",
       "      <td>Married</td>\n",
       "      <td>16264</td>\n",
       "      <td>35480</td>\n",
       "      <td>12</td>\n",
       "      <td>NO</td>\n",
       "      <td>Risky</td>\n",
       "    </tr>\n",
       "    <tr>\n",
       "      <th>49</th>\n",
       "      <td>NO</td>\n",
       "      <td>Divorced</td>\n",
       "      <td>45706</td>\n",
       "      <td>160195</td>\n",
       "      <td>15</td>\n",
       "      <td>YES</td>\n",
       "      <td>Good</td>\n",
       "    </tr>\n",
       "  </tbody>\n",
       "</table>\n",
       "</div>"
      ],
      "text/plain": [
       "   Undergrad Marital.Status  Taxable.Income  City.Population  Work.Experience  \\\n",
       "0         NO         Single           68833            50047               10   \n",
       "1        YES       Divorced           33700           134075               18   \n",
       "2         NO        Married           36925           160205               30   \n",
       "3        YES         Single           50190           193264               15   \n",
       "4         NO        Married           81002            27533               28   \n",
       "5         NO       Divorced           33329           116382                0   \n",
       "6         NO       Divorced           83357            80890                8   \n",
       "7        YES         Single           62774           131253                3   \n",
       "8         NO         Single           83519           102481               12   \n",
       "9        YES       Divorced           98152           155482                4   \n",
       "10        NO         Single           29732           102602               19   \n",
       "11        NO         Single           61063            94875                6   \n",
       "12        NO       Divorced           11794           148033               14   \n",
       "13        NO        Married           61830            86649               16   \n",
       "14        NO        Married           64070            57529               13   \n",
       "15        NO       Divorced           69869           107764               29   \n",
       "16       YES       Divorced           24987            34551               29   \n",
       "17       YES        Married           39476            57194               25   \n",
       "18       YES       Divorced           97957            59269                6   \n",
       "19        NO         Single           10987           126953               30   \n",
       "20       YES         Single           88636           147222               26   \n",
       "21       YES       Divorced           14310            29106                7   \n",
       "22       YES       Divorced           78969           155342               14   \n",
       "23        NO         Single           92040            50495               12   \n",
       "24        NO       Divorced           38239            28495               30   \n",
       "25        NO       Divorced           31417           124606               27   \n",
       "26       YES       Divorced           55299           169128               15   \n",
       "27       YES         Single           87778            28542               12   \n",
       "28       YES         Single           10379           128766                5   \n",
       "29       YES       Divorced           94033            41863               30   \n",
       "30       YES       Divorced           73854           117788                0   \n",
       "31        NO       Divorced           64007           147414               21   \n",
       "32       YES        Married           97200            51911               23   \n",
       "33       YES         Single           82071           157251               21   \n",
       "34       YES       Divorced           12514           183767                1   \n",
       "35       YES        Married           31336            41117               30   \n",
       "36       YES        Married           10163           193995                5   \n",
       "37        NO        Married           68513            66912                5   \n",
       "38        NO         Single           14912           177575                3   \n",
       "39        NO        Married           74010            54981               16   \n",
       "40        NO         Single           50777           199697               26   \n",
       "41       YES        Married           49436            91524                1   \n",
       "42        NO         Single           96485            51666               12   \n",
       "43       YES       Divorced           70339            50020               10   \n",
       "44       YES       Divorced           33614            98880               22   \n",
       "45       YES        Married           81079           183095               14   \n",
       "46       YES        Married           31532           137346               27   \n",
       "47       YES         Single           44034            34964                2   \n",
       "48        NO        Married           16264            35480               12   \n",
       "49        NO       Divorced           45706           160195               15   \n",
       "\n",
       "   Urban Risky/Good  \n",
       "0    YES       Good  \n",
       "1    YES       Good  \n",
       "2    YES       Good  \n",
       "3    YES       Good  \n",
       "4     NO       Good  \n",
       "5     NO       Good  \n",
       "6    YES       Good  \n",
       "7    YES       Good  \n",
       "8    YES       Good  \n",
       "9    YES       Good  \n",
       "10   YES      Risky  \n",
       "11   YES       Good  \n",
       "12   YES      Risky  \n",
       "13   YES       Good  \n",
       "14   YES       Good  \n",
       "15    NO       Good  \n",
       "16    NO      Risky  \n",
       "17    NO       Good  \n",
       "18    NO       Good  \n",
       "19   YES      Risky  \n",
       "20    NO       Good  \n",
       "21   YES      Risky  \n",
       "22    NO       Good  \n",
       "23   YES       Good  \n",
       "24    NO       Good  \n",
       "25   YES       Good  \n",
       "26    NO       Good  \n",
       "27   YES       Good  \n",
       "28   YES      Risky  \n",
       "29   YES       Good  \n",
       "30   YES       Good  \n",
       "31    NO       Good  \n",
       "32    NO       Good  \n",
       "33    NO       Good  \n",
       "34   YES      Risky  \n",
       "35   YES       Good  \n",
       "36   YES      Risky  \n",
       "37   YES       Good  \n",
       "38    NO      Risky  \n",
       "39   YES       Good  \n",
       "40   YES       Good  \n",
       "41    NO       Good  \n",
       "42    NO       Good  \n",
       "43    NO       Good  \n",
       "44    NO       Good  \n",
       "45   YES       Good  \n",
       "46   YES       Good  \n",
       "47    NO       Good  \n",
       "48    NO      Risky  \n",
       "49   YES       Good  "
      ]
     },
     "execution_count": 6,
     "metadata": {},
     "output_type": "execute_result"
    }
   ],
   "source": [
    "fraud_check.head(50)"
   ]
  },
  {
   "cell_type": "markdown",
   "id": "1fa62ff7",
   "metadata": {},
   "source": [
    "## Data understanding"
   ]
  },
  {
   "cell_type": "code",
   "execution_count": 7,
   "id": "ef369d59",
   "metadata": {},
   "outputs": [
    {
     "data": {
      "text/plain": [
       "(600, 7)"
      ]
     },
     "execution_count": 7,
     "metadata": {},
     "output_type": "execute_result"
    }
   ],
   "source": [
    "fraud_check.shape"
   ]
  },
  {
   "cell_type": "code",
   "execution_count": 8,
   "id": "427bea6f",
   "metadata": {},
   "outputs": [
    {
     "data": {
      "text/plain": [
       "Undergrad          0\n",
       "Marital.Status     0\n",
       "Taxable.Income     0\n",
       "City.Population    0\n",
       "Work.Experience    0\n",
       "Urban              0\n",
       "Risky/Good         0\n",
       "dtype: int64"
      ]
     },
     "execution_count": 8,
     "metadata": {},
     "output_type": "execute_result"
    }
   ],
   "source": [
    "fraud_check.isna().sum()"
   ]
  },
  {
   "cell_type": "code",
   "execution_count": 9,
   "id": "7a47922b",
   "metadata": {},
   "outputs": [
    {
     "data": {
      "text/plain": [
       "Undergrad          object\n",
       "Marital.Status     object\n",
       "Taxable.Income      int64\n",
       "City.Population     int64\n",
       "Work.Experience     int64\n",
       "Urban              object\n",
       "Risky/Good         object\n",
       "dtype: object"
      ]
     },
     "execution_count": 9,
     "metadata": {},
     "output_type": "execute_result"
    }
   ],
   "source": [
    "fraud_check.dtypes"
   ]
  },
  {
   "cell_type": "code",
   "execution_count": 10,
   "id": "3ffb501d",
   "metadata": {},
   "outputs": [],
   "source": [
    "fraud_check2 = fraud_check.copy()"
   ]
  },
  {
   "cell_type": "markdown",
   "id": "90e42c1c",
   "metadata": {},
   "source": [
    "## Label encoding"
   ]
  },
  {
   "cell_type": "code",
   "execution_count": 11,
   "id": "cd7c8874",
   "metadata": {},
   "outputs": [],
   "source": [
    "from sklearn.preprocessing import LabelEncoder"
   ]
  },
  {
   "cell_type": "code",
   "execution_count": 12,
   "id": "d448c361",
   "metadata": {},
   "outputs": [],
   "source": [
    "le = LabelEncoder()\n",
    "fraud_check2['Undergrad']      = le.fit_transform(fraud_check2['Undergrad'])\n",
    "fraud_check2['Marital.Status'] = le.fit_transform(fraud_check2['Marital.Status'])\n",
    "fraud_check2['Urban']          = le.fit_transform(fraud_check2['Urban'])\n",
    "fraud_check2['Risky/Good']     = le.fit_transform(fraud_check2['Risky/Good'])"
   ]
  },
  {
   "cell_type": "code",
   "execution_count": 13,
   "id": "916a67f1",
   "metadata": {},
   "outputs": [
    {
     "data": {
      "text/plain": [
       "Undergrad          int64\n",
       "Marital.Status     int64\n",
       "Taxable.Income     int64\n",
       "City.Population    int64\n",
       "Work.Experience    int64\n",
       "Urban              int64\n",
       "Risky/Good         int64\n",
       "dtype: object"
      ]
     },
     "execution_count": 13,
     "metadata": {},
     "output_type": "execute_result"
    }
   ],
   "source": [
    "fraud_check2.dtypes"
   ]
  },
  {
   "cell_type": "code",
   "execution_count": 14,
   "id": "16574e8d",
   "metadata": {},
   "outputs": [],
   "source": [
    "X = fraud_check2.drop('Risky/Good',axis=1)\n",
    "y= fraud_check2[['Risky/Good']]"
   ]
  },
  {
   "cell_type": "markdown",
   "id": "5b1049da",
   "metadata": {},
   "source": [
    "## Standard Scalar"
   ]
  },
  {
   "cell_type": "code",
   "execution_count": 15,
   "id": "99d8170b",
   "metadata": {},
   "outputs": [],
   "source": [
    "from sklearn.preprocessing import StandardScaler"
   ]
  },
  {
   "cell_type": "code",
   "execution_count": 16,
   "id": "9af6ceb0",
   "metadata": {},
   "outputs": [],
   "source": [
    "std = StandardScaler()\n",
    "scaled_X = std.fit_transform(X)\n",
    "scaled_X = pd.DataFrame(scaled_X,columns=X.columns)"
   ]
  },
  {
   "cell_type": "code",
   "execution_count": 17,
   "id": "0f6c8728",
   "metadata": {},
   "outputs": [
    {
     "data": {
      "image/png": "[encoded data removed]",
      "text/plain": [
       "<Figure size 432x288 with 1 Axes>"
      ]
     },
     "metadata": {
      "needs_background": "light"
     },
     "output_type": "display_data"
    }
   ],
   "source": [
    "sns.countplot(x='Risky/Good',data=fraud_check2)\n",
    "plt.xlabel('Risky/Good')\n",
    "plt.show()"
   ]
  },
  {
   "cell_type": "markdown",
   "id": "4972035c",
   "metadata": {},
   "source": [
    "### Observation"
   ]
  },
  {
   "cell_type": "markdown",
   "id": "da3b2c63",
   "metadata": {},
   "source": [
    "#### output data is imbalance"
   ]
  },
  {
   "cell_type": "markdown",
   "id": "4bfa32dd",
   "metadata": {},
   "source": [
    "## Spliting data "
   ]
  },
  {
   "cell_type": "code",
   "execution_count": 18,
   "id": "964a2593",
   "metadata": {},
   "outputs": [],
   "source": [
    "from sklearn.model_selection import train_test_split"
   ]
  },
  {
   "cell_type": "code",
   "execution_count": 19,
   "id": "b9da37b8",
   "metadata": {},
   "outputs": [],
   "source": [
    "X_train,X_test,y_train,y_test = train_test_split(scaled_X,y,test_size=0.20,random_state=12,stratify=y)"
   ]
  },
  {
   "cell_type": "code",
   "execution_count": 20,
   "id": "65212337",
   "metadata": {},
   "outputs": [
    {
     "data": {
      "text/plain": [
       "((480, 6), (480, 1))"
      ]
     },
     "execution_count": 20,
     "metadata": {},
     "output_type": "execute_result"
    }
   ],
   "source": [
    "X_train.shape,y_train.shape"
   ]
  },
  {
   "cell_type": "code",
   "execution_count": 21,
   "id": "ce498319",
   "metadata": {},
   "outputs": [
    {
     "data": {
      "text/plain": [
       "((120, 6), (120, 1))"
      ]
     },
     "execution_count": 21,
     "metadata": {},
     "output_type": "execute_result"
    }
   ],
   "source": [
    "X_test.shape,y_test.shape"
   ]
  },
  {
   "cell_type": "markdown",
   "id": "290d90b7",
   "metadata": {},
   "source": [
    "## Model Training | Testing | Evaluation"
   ]
  },
  {
   "cell_type": "code",
   "execution_count": 22,
   "id": "5a2e8b20",
   "metadata": {},
   "outputs": [],
   "source": [
    "from sklearn.tree import DecisionTreeClassifier\n",
    "from sklearn.metrics import accuracy_score,precision_score,recall_score,plot_confusion_matrix"
   ]
  },
  {
   "cell_type": "code",
   "execution_count": 33,
   "id": "698a313a",
   "metadata": {},
   "outputs": [
    {
     "name": "stdout",
     "output_type": "stream",
     "text": [
      "accuracy score          : 1.0\n",
      "precision score         : 1.0\n",
      "recall score            : 1.0\n"
     ]
    },
    {
     "data": {
      "image/png": "[encoded data removed]",
      "text/plain": [
       "<Figure size 432x288 with 2 Axes>"
      ]
     },
     "metadata": {
      "needs_background": "light"
     },
     "output_type": "display_data"
    }
   ],
   "source": [
    "dt_model = DecisionTreeClassifier(max_depth=3,class_weight={})\n",
    "dt_model.fit(X_train,y_train)\n",
    "y_pred = dt_model.predict(X_test)\n",
    "\n",
    "print('accuracy score          :',round(accuracy_score(y_test,y_pred),4))\n",
    "print('precision score         :',round(precision_score(y_test,y_pred),4))\n",
    "print('recall score            :',round(recall_score(y_test,y_pred),4))\n",
    "plot_confusion_matrix(dt_model,X_test,y_test,cmap='plasma')\n",
    "plt.show()"
   ]
  },
  {
   "cell_type": "markdown",
   "id": "7461c613",
   "metadata": {},
   "source": [
    "## Tune Decision tree using gridsearch cv"
   ]
  },
  {
   "cell_type": "code",
   "execution_count": 24,
   "id": "0a70fd2b",
   "metadata": {},
   "outputs": [],
   "source": [
    "from sklearn.model_selection import GridSearchCV"
   ]
  },
  {
   "cell_type": "code",
   "execution_count": 25,
   "id": "91fd339c",
   "metadata": {},
   "outputs": [
    {
     "data": {
      "text/plain": [
       "DecisionTreeClassifier()"
      ]
     },
     "execution_count": 25,
     "metadata": {},
     "output_type": "execute_result"
    }
   ],
   "source": [
    "DecisionTreeClassifier()"
   ]
  },
  {
   "cell_type": "code",
   "execution_count": 26,
   "id": "de57249e",
   "metadata": {},
   "outputs": [
    {
     "data": {
      "text/plain": [
       "GridSearchCV(cv=5, estimator=DecisionTreeClassifier(),\n",
       "             param_grid={'class_weight': [{0: 1}, {0: 2}, {0: 3}, {0: 4}],\n",
       "                         'criterion': ['gini', 'entropy'],\n",
       "                         'max_depth': range(3, 7)})"
      ]
     },
     "execution_count": 26,
     "metadata": {},
     "output_type": "execute_result"
    }
   ],
   "source": [
    "grid_cv = GridSearchCV(estimator=dt_model,param_grid={\n",
    "    \"criterion\":[\"gini\", \"entropy\"],\n",
    "    \"max_depth\":range(3,7),\n",
    "    \"class_weight\":[{0:1}, {0:2}, {0:3}, {0:4}]\n",
    "},cv=5)\n",
    "grid_cv.fit(X_train,y_train)"
   ]
  },
  {
   "cell_type": "code",
   "execution_count": 27,
   "id": "002f21c8",
   "metadata": {},
   "outputs": [
    {
     "data": {
      "text/plain": [
       "{'class_weight': {0: 1}, 'criterion': 'gini', 'max_depth': 3}"
      ]
     },
     "execution_count": 27,
     "metadata": {},
     "output_type": "execute_result"
    }
   ],
   "source": [
    "grid_cv.best_params_"
   ]
  },
  {
   "cell_type": "code",
   "execution_count": 28,
   "id": "c73fadb6",
   "metadata": {},
   "outputs": [
    {
     "name": "stdout",
     "output_type": "stream",
     "text": [
      "accuracy score          : 1.0\n",
      "precision score         : 1.0\n",
      "recall score            : 1.0\n"
     ]
    },
    {
     "data": {
      "image/png": "[encoded data removed]",
      "text/plain": [
       "<Figure size 432x288 with 2 Axes>"
      ]
     },
     "metadata": {
      "needs_background": "light"
     },
     "output_type": "display_data"
    }
   ],
   "source": [
    "dt_model = DecisionTreeClassifier(criterion='gini',max_depth=1,class_weight={1:6})\n",
    "dt_model.fit(X_train,y_train)\n",
    "y_pred = dt_model.predict(X_test)\n",
    "\n",
    "print('accuracy score          :',round(accuracy_score(y_test,y_pred),4))\n",
    "print('precision score         :',round(precision_score(y_test,y_pred),4))\n",
    "print('recall score            :',round(recall_score(y_test,y_pred),4))\n",
    "plot_confusion_matrix(dt_model,X_test,y_test,cmap='plasma')\n",
    "plt.show()"
   ]
  },
  {
   "cell_type": "markdown",
   "id": "2eecd2e1",
   "metadata": {},
   "source": [
    "## ================End========================"
   ]
  },
  {
   "cell_type": "code",
   "execution_count": 29,
   "id": "92f627f6",
   "metadata": {},
   "outputs": [
    {
     "data": {
      "text/plain": [
       "476"
      ]
     },
     "execution_count": 29,
     "metadata": {},
     "output_type": "execute_result"
    }
   ],
   "source": [
    "fraud_check[fraud_check['Risky/Good']=='Good'].shape[0]"
   ]
  },
  {
   "cell_type": "code",
   "execution_count": 30,
   "id": "0bebe25d",
   "metadata": {},
   "outputs": [
    {
     "data": {
      "text/plain": [
       "124"
      ]
     },
     "execution_count": 30,
     "metadata": {},
     "output_type": "execute_result"
    }
   ],
   "source": [
    "fraud_check[fraud_check['Risky/Good']=='Risky'].shape[0]"
   ]
  },
  {
   "cell_type": "code",
   "execution_count": 31,
   "id": "e5c014ee",
   "metadata": {},
   "outputs": [
    {
     "name": "stdout",
     "output_type": "stream",
     "text": [
      "accuracy score          : 1.0\n",
      "precision score         : 1.0\n",
      "recall score            : 1.0\n"
     ]
    },
    {
     "data": {
      "image/png": "[encoded data removed]",
      "text/plain": [
       "<Figure size 432x288 with 2 Axes>"
      ]
     },
     "metadata": {
      "needs_background": "light"
     },
     "output_type": "display_data"
    }
   ],
   "source": [
    "dt_model = DecisionTreeClassifier(criterion='gini',max_depth=1,class_weight={1:3})\n",
    "dt_model.fit(X_train,y_train)\n",
    "y_pred = dt_model.predict(X_train)\n",
    "print('accuracy score          :',round(accuracy_score(y_train,y_pred),4))\n",
    "print('precision score         :',round(precision_score(y_train,y_pred),4))\n",
    "print('recall score            :',round(recall_score(y_train,y_pred),4))\n",
    "plot_confusion_matrix(dt_model,X_train,y_train,cmap='plasma')\n",
    "plt.show()"
   ]
  },
  {
   "cell_type": "code",
   "execution_count": null,
   "id": "1695afeb",
   "metadata": {},
   "outputs": [],
   "source": []
  }
 ],
 "metadata": {
  "kernelspec": {
   "display_name": "Python 3",
   "language": "python",
   "name": "python3"
  },
  "language_info": {
   "codemirror_mode": {
    "name": "ipython",
    "version": 3
   },
   "file_extension": ".py",
   "mimetype": "text/x-python",
   "name": "python",
   "nbconvert_exporter": "python",
   "pygments_lexer": "ipython3",
   "version": "3.8.8"
  }
 },
 "nbformat": 4,
 "nbformat_minor": 5
}
